{
 "cells": [
  {
   "cell_type": "code",
   "execution_count": 1,
   "metadata": {
    "collapsed": true
   },
   "outputs": [],
   "source": [
    "%load_ext autoreload                                                                                                                \n",
    "%autoreload 2"
   ]
  },
  {
   "cell_type": "code",
   "execution_count": 2,
   "metadata": {
    "collapsed": true
   },
   "outputs": [],
   "source": [
    "import logging\n",
    "logging.basicConfig(level=logging.INFO)"
   ]
  },
  {
   "cell_type": "code",
   "execution_count": 3,
   "metadata": {
    "collapsed": true
   },
   "outputs": [],
   "source": [
    "from smac.scenario.scenario import Scenario\n",
    "from smac.facade.smac_facade import SMAC"
   ]
  },
  {
   "cell_type": "code",
   "execution_count": 4,
   "metadata": {},
   "outputs": [
    {
     "name": "stdout",
     "output_type": "stream",
     "text": [
      "/home/biedenka/git/importance/examples/branin\n"
     ]
    }
   ],
   "source": [
    "cd ../examples/branin"
   ]
  },
  {
   "cell_type": "code",
   "execution_count": null,
   "metadata": {},
   "outputs": [
    {
     "name": "stderr",
     "output_type": "stream",
     "text": [
      "INFO:smac.scenario.scenario.Scenario:Reading scenario file: branin_scenario.txt\n",
      "INFO:smac.scenario.scenario.Scenario:Output to smac3-output_2017-07-09_20:17:57_(926677)\n"
     ]
    }
   ],
   "source": [
    "scenario = Scenario('branin_scenario.txt')\n",
    "smac = SMAC(scenario)"
   ]
  },
  {
   "cell_type": "code",
   "execution_count": null,
   "metadata": {
    "scrolled": true
   },
   "outputs": [
    {
     "name": "stderr",
     "output_type": "stream",
     "text": [
      "INFO:smac.intensification.intensification.Intensifier:Challenger (0.7790) is better than incumbent (55.6021) on 1 runs.\n",
      "INFO:smac.intensification.intensification.Intensifier:Changes in incumbent:\n",
      "INFO:smac.intensification.intensification.Intensifier:  x1 : 0.0 -> 2.911259610010064\n",
      "INFO:smac.intensification.intensification.Intensifier:  x2 : 0.0 -> 2.1043571663901735\n",
      "INFO:smac.intensification.intensification.Intensifier:Updated estimated performance of incumbent on 1 runs: 0.7790\n",
      "INFO:smac.intensification.intensification.Intensifier:Updated estimated performance of incumbent on 1 runs: 0.7790\n",
      "INFO:smac.intensification.intensification.Intensifier:Updated estimated performance of incumbent on 1 runs: 0.7790\n",
      "INFO:smac.intensification.intensification.Intensifier:Updated estimated performance of incumbent on 1 runs: 0.7790\n",
      "INFO:smac.intensification.intensification.Intensifier:Updated estimated performance of incumbent on 1 runs: 0.7790\n",
      "INFO:smac.intensification.intensification.Intensifier:Updated estimated performance of incumbent on 1 runs: 0.7790\n",
      "INFO:smac.intensification.intensification.Intensifier:Updated estimated performance of incumbent on 1 runs: 0.7790\n",
      "INFO:smac.intensification.intensification.Intensifier:Updated estimated performance of incumbent on 1 runs: 0.7790\n",
      "INFO:smac.intensification.intensification.Intensifier:Updated estimated performance of incumbent on 1 runs: 0.7790\n",
      "INFO:smac.intensification.intensification.Intensifier:Updated estimated performance of incumbent on 1 runs: 0.7790\n",
      "INFO:smac.intensification.intensification.Intensifier:Updated estimated performance of incumbent on 1 runs: 0.7790\n",
      "INFO:smac.intensification.intensification.Intensifier:Updated estimated performance of incumbent on 1 runs: 0.7790\n",
      "INFO:smac.intensification.intensification.Intensifier:Updated estimated performance of incumbent on 1 runs: 0.7790\n",
      "INFO:smac.intensification.intensification.Intensifier:Updated estimated performance of incumbent on 1 runs: 0.7790\n",
      "INFO:smac.intensification.intensification.Intensifier:Updated estimated performance of incumbent on 1 runs: 0.7790\n",
      "INFO:smac.intensification.intensification.Intensifier:Updated estimated performance of incumbent on 1 runs: 0.7790\n",
      "INFO:smac.intensification.intensification.Intensifier:Updated estimated performance of incumbent on 1 runs: 0.7790\n",
      "INFO:smac.intensification.intensification.Intensifier:Updated estimated performance of incumbent on 1 runs: 0.7790\n",
      "INFO:smac.intensification.intensification.Intensifier:Updated estimated performance of incumbent on 1 runs: 0.7790\n",
      "INFO:smac.intensification.intensification.Intensifier:Updated estimated performance of incumbent on 1 runs: 0.7790\n",
      "INFO:smac.intensification.intensification.Intensifier:Updated estimated performance of incumbent on 1 runs: 0.7790\n",
      "INFO:smac.intensification.intensification.Intensifier:Updated estimated performance of incumbent on 1 runs: 0.7790\n",
      "INFO:smac.intensification.intensification.Intensifier:Updated estimated performance of incumbent on 1 runs: 0.7790\n",
      "INFO:smac.intensification.intensification.Intensifier:Updated estimated performance of incumbent on 1 runs: 0.7790\n",
      "INFO:smac.intensification.intensification.Intensifier:Updated estimated performance of incumbent on 1 runs: 0.7790\n",
      "INFO:smac.intensification.intensification.Intensifier:Updated estimated performance of incumbent on 1 runs: 0.7790\n",
      "INFO:smac.intensification.intensification.Intensifier:Updated estimated performance of incumbent on 1 runs: 0.7790\n",
      "INFO:smac.intensification.intensification.Intensifier:Updated estimated performance of incumbent on 1 runs: 0.7790\n",
      "INFO:smac.intensification.intensification.Intensifier:Updated estimated performance of incumbent on 1 runs: 0.7790\n",
      "INFO:smac.intensification.intensification.Intensifier:Updated estimated performance of incumbent on 1 runs: 0.7790\n",
      "INFO:smac.intensification.intensification.Intensifier:Updated estimated performance of incumbent on 1 runs: 0.7790\n",
      "INFO:smac.intensification.intensification.Intensifier:Updated estimated performance of incumbent on 1 runs: 0.7790\n",
      "INFO:smac.intensification.intensification.Intensifier:Updated estimated performance of incumbent on 1 runs: 0.7790\n",
      "INFO:smac.intensification.intensification.Intensifier:Updated estimated performance of incumbent on 1 runs: 0.7790\n",
      "INFO:smac.intensification.intensification.Intensifier:Updated estimated performance of incumbent on 1 runs: 0.7790\n",
      "INFO:smac.intensification.intensification.Intensifier:Updated estimated performance of incumbent on 1 runs: 0.7790\n",
      "INFO:smac.intensification.intensification.Intensifier:Updated estimated performance of incumbent on 1 runs: 0.7790\n",
      "INFO:smac.intensification.intensification.Intensifier:Updated estimated performance of incumbent on 1 runs: 0.7790\n",
      "INFO:smac.intensification.intensification.Intensifier:Updated estimated performance of incumbent on 1 runs: 0.7790\n",
      "INFO:smac.intensification.intensification.Intensifier:Updated estimated performance of incumbent on 1 runs: 0.7790\n",
      "INFO:smac.intensification.intensification.Intensifier:Updated estimated performance of incumbent on 1 runs: 0.7790\n",
      "INFO:smac.intensification.intensification.Intensifier:Updated estimated performance of incumbent on 1 runs: 0.7790\n",
      "INFO:smac.intensification.intensification.Intensifier:Updated estimated performance of incumbent on 1 runs: 0.7790\n",
      "INFO:smac.intensification.intensification.Intensifier:Updated estimated performance of incumbent on 1 runs: 0.7790\n",
      "INFO:smac.intensification.intensification.Intensifier:Updated estimated performance of incumbent on 1 runs: 0.7790\n",
      "INFO:smac.intensification.intensification.Intensifier:Updated estimated performance of incumbent on 1 runs: 0.7790\n",
      "INFO:smac.intensification.intensification.Intensifier:Updated estimated performance of incumbent on 1 runs: 0.7790\n",
      "INFO:smac.intensification.intensification.Intensifier:Updated estimated performance of incumbent on 1 runs: 0.7790\n",
      "INFO:smac.intensification.intensification.Intensifier:Updated estimated performance of incumbent on 1 runs: 0.7790\n",
      "INFO:smac.intensification.intensification.Intensifier:Updated estimated performance of incumbent on 1 runs: 0.7790\n",
      "INFO:smac.intensification.intensification.Intensifier:Updated estimated performance of incumbent on 1 runs: 0.7790\n",
      "INFO:smac.intensification.intensification.Intensifier:Updated estimated performance of incumbent on 1 runs: 0.7790\n",
      "INFO:smac.intensification.intensification.Intensifier:Updated estimated performance of incumbent on 1 runs: 0.7790\n",
      "INFO:smac.intensification.intensification.Intensifier:Updated estimated performance of incumbent on 1 runs: 0.7790\n",
      "INFO:smac.intensification.intensification.Intensifier:Updated estimated performance of incumbent on 1 runs: 0.7790\n",
      "INFO:smac.intensification.intensification.Intensifier:Updated estimated performance of incumbent on 1 runs: 0.7790\n",
      "INFO:smac.intensification.intensification.Intensifier:Updated estimated performance of incumbent on 1 runs: 0.7790\n",
      "INFO:smac.intensification.intensification.Intensifier:Updated estimated performance of incumbent on 1 runs: 0.7790\n",
      "INFO:smac.intensification.intensification.Intensifier:Updated estimated performance of incumbent on 1 runs: 0.7790\n",
      "INFO:smac.intensification.intensification.Intensifier:Updated estimated performance of incumbent on 1 runs: 0.7790\n",
      "INFO:smac.intensification.intensification.Intensifier:Updated estimated performance of incumbent on 1 runs: 0.7790\n",
      "INFO:smac.intensification.intensification.Intensifier:Updated estimated performance of incumbent on 1 runs: 0.7790\n",
      "INFO:smac.intensification.intensification.Intensifier:Updated estimated performance of incumbent on 1 runs: 0.7790\n",
      "INFO:smac.intensification.intensification.Intensifier:Updated estimated performance of incumbent on 1 runs: 0.7790\n",
      "INFO:smac.intensification.intensification.Intensifier:Updated estimated performance of incumbent on 1 runs: 0.7790\n",
      "INFO:smac.intensification.intensification.Intensifier:Challenger (0.7142) is better than incumbent (0.7790) on 1 runs.\n",
      "INFO:smac.intensification.intensification.Intensifier:Changes in incumbent:\n",
      "INFO:smac.intensification.intensification.Intensifier:  x1 : 2.911259610010064 -> 3.212340734865288\n",
      "INFO:smac.intensification.intensification.Intensifier:  x2 : 2.1043571663901735 -> 1.6798426628285468\n"
     ]
    },
    {
     "name": "stderr",
     "output_type": "stream",
     "text": [
      "INFO:smac.intensification.intensification.Intensifier:Updated estimated performance of incumbent on 1 runs: 0.7142\n",
      "INFO:smac.intensification.intensification.Intensifier:Updated estimated performance of incumbent on 1 runs: 0.7142\n",
      "INFO:smac.intensification.intensification.Intensifier:Updated estimated performance of incumbent on 1 runs: 0.7142\n",
      "INFO:smac.intensification.intensification.Intensifier:Updated estimated performance of incumbent on 1 runs: 0.7142\n",
      "INFO:smac.intensification.intensification.Intensifier:Updated estimated performance of incumbent on 1 runs: 0.7142\n",
      "INFO:smac.intensification.intensification.Intensifier:Updated estimated performance of incumbent on 1 runs: 0.7142\n",
      "INFO:smac.intensification.intensification.Intensifier:Updated estimated performance of incumbent on 1 runs: 0.7142\n",
      "INFO:smac.intensification.intensification.Intensifier:Updated estimated performance of incumbent on 1 runs: 0.7142\n",
      "INFO:smac.intensification.intensification.Intensifier:Updated estimated performance of incumbent on 1 runs: 0.7142\n",
      "INFO:smac.intensification.intensification.Intensifier:Updated estimated performance of incumbent on 1 runs: 0.7142\n",
      "INFO:smac.intensification.intensification.Intensifier:Updated estimated performance of incumbent on 1 runs: 0.7142\n",
      "INFO:smac.intensification.intensification.Intensifier:Updated estimated performance of incumbent on 1 runs: 0.7142\n",
      "INFO:smac.intensification.intensification.Intensifier:Challenger (0.6380) is better than incumbent (0.7142) on 1 runs.\n",
      "INFO:smac.intensification.intensification.Intensifier:Changes in incumbent:\n",
      "INFO:smac.intensification.intensification.Intensifier:  x1 : 3.212340734865288 -> 9.552484946829718\n",
      "INFO:smac.intensification.intensification.Intensifier:  x2 : 1.6798426628285468 -> 2.182468799031652\n",
      "INFO:smac.intensification.intensification.Intensifier:Updated estimated performance of incumbent on 1 runs: 0.6380\n",
      "INFO:smac.intensification.intensification.Intensifier:Updated estimated performance of incumbent on 1 runs: 0.6380\n",
      "INFO:smac.intensification.intensification.Intensifier:Challenger (0.5082) is better than incumbent (0.6380) on 1 runs.\n",
      "INFO:smac.intensification.intensification.Intensifier:Changes in incumbent:\n",
      "INFO:smac.intensification.intensification.Intensifier:  x1 : 9.552484946829718 -> 9.279619185313255\n",
      "INFO:smac.intensification.intensification.Intensifier:  x2 : 2.182468799031652 -> 2.2589446101189274\n",
      "INFO:smac.intensification.intensification.Intensifier:Updated estimated performance of incumbent on 1 runs: 0.5082\n",
      "INFO:smac.intensification.intensification.Intensifier:Challenger (0.4590) is better than incumbent (0.5082) on 1 runs.\n",
      "INFO:smac.intensification.intensification.Intensifier:Changes in incumbent:\n",
      "INFO:smac.intensification.intensification.Intensifier:  x1 : 9.279619185313255 -> 3.217591183086874\n",
      "INFO:smac.intensification.intensification.Intensifier:  x2 : 2.2589446101189274 -> 2.39927510346154\n",
      "INFO:smac.intensification.intensification.Intensifier:Updated estimated performance of incumbent on 1 runs: 0.4590\n",
      "INFO:smac.intensification.intensification.Intensifier:Updated estimated performance of incumbent on 1 runs: 0.4590\n",
      "INFO:smac.intensification.intensification.Intensifier:Updated estimated performance of incumbent on 1 runs: 0.4590\n",
      "INFO:smac.intensification.intensification.Intensifier:Updated estimated performance of incumbent on 1 runs: 0.4590\n",
      "INFO:smac.intensification.intensification.Intensifier:Updated estimated performance of incumbent on 1 runs: 0.4590\n",
      "INFO:smac.intensification.intensification.Intensifier:Updated estimated performance of incumbent on 1 runs: 0.4590\n",
      "INFO:smac.intensification.intensification.Intensifier:Updated estimated performance of incumbent on 1 runs: 0.4590\n",
      "INFO:smac.intensification.intensification.Intensifier:Updated estimated performance of incumbent on 1 runs: 0.4590\n",
      "INFO:smac.intensification.intensification.Intensifier:Updated estimated performance of incumbent on 1 runs: 0.4590\n",
      "INFO:smac.intensification.intensification.Intensifier:Updated estimated performance of incumbent on 1 runs: 0.4590\n",
      "INFO:smac.intensification.intensification.Intensifier:Updated estimated performance of incumbent on 1 runs: 0.4590\n",
      "INFO:smac.intensification.intensification.Intensifier:Updated estimated performance of incumbent on 1 runs: 0.4590\n",
      "INFO:smac.intensification.intensification.Intensifier:Updated estimated performance of incumbent on 1 runs: 0.4590\n",
      "INFO:smac.intensification.intensification.Intensifier:Updated estimated performance of incumbent on 1 runs: 0.4590\n",
      "INFO:smac.intensification.intensification.Intensifier:Updated estimated performance of incumbent on 1 runs: 0.4590\n",
      "INFO:smac.intensification.intensification.Intensifier:Updated estimated performance of incumbent on 1 runs: 0.4590\n",
      "INFO:smac.intensification.intensification.Intensifier:Updated estimated performance of incumbent on 1 runs: 0.4590\n",
      "INFO:smac.intensification.intensification.Intensifier:Updated estimated performance of incumbent on 1 runs: 0.4590\n",
      "INFO:smac.intensification.intensification.Intensifier:Updated estimated performance of incumbent on 1 runs: 0.4590\n",
      "INFO:smac.intensification.intensification.Intensifier:Updated estimated performance of incumbent on 1 runs: 0.4590\n",
      "INFO:smac.intensification.intensification.Intensifier:Updated estimated performance of incumbent on 1 runs: 0.4590\n",
      "INFO:smac.intensification.intensification.Intensifier:Updated estimated performance of incumbent on 1 runs: 0.4590\n",
      "INFO:smac.intensification.intensification.Intensifier:Updated estimated performance of incumbent on 1 runs: 0.4590\n",
      "INFO:smac.intensification.intensification.Intensifier:Updated estimated performance of incumbent on 1 runs: 0.4590\n",
      "INFO:smac.intensification.intensification.Intensifier:Updated estimated performance of incumbent on 1 runs: 0.4590\n",
      "INFO:smac.intensification.intensification.Intensifier:Updated estimated performance of incumbent on 1 runs: 0.4590\n",
      "INFO:smac.intensification.intensification.Intensifier:Updated estimated performance of incumbent on 1 runs: 0.4590\n",
      "INFO:smac.intensification.intensification.Intensifier:Updated estimated performance of incumbent on 1 runs: 0.4590\n",
      "INFO:smac.intensification.intensification.Intensifier:Updated estimated performance of incumbent on 1 runs: 0.4590\n",
      "INFO:smac.intensification.intensification.Intensifier:Updated estimated performance of incumbent on 1 runs: 0.4590\n",
      "INFO:smac.intensification.intensification.Intensifier:Updated estimated performance of incumbent on 1 runs: 0.4590\n",
      "INFO:smac.intensification.intensification.Intensifier:Updated estimated performance of incumbent on 1 runs: 0.4590\n",
      "INFO:smac.intensification.intensification.Intensifier:Updated estimated performance of incumbent on 1 runs: 0.4590\n",
      "INFO:smac.intensification.intensification.Intensifier:Updated estimated performance of incumbent on 1 runs: 0.4590\n",
      "INFO:smac.intensification.intensification.Intensifier:Updated estimated performance of incumbent on 1 runs: 0.4590\n",
      "INFO:smac.intensification.intensification.Intensifier:Updated estimated performance of incumbent on 1 runs: 0.4590\n",
      "INFO:smac.intensification.intensification.Intensifier:Challenger (0.3982) is better than incumbent (0.4590) on 1 runs.\n",
      "INFO:smac.intensification.intensification.Intensifier:Changes in incumbent:\n",
      "INFO:smac.intensification.intensification.Intensifier:  x1 : 3.217591183086874 -> 9.43214566385077\n",
      "INFO:smac.intensification.intensification.Intensifier:  x2 : 2.39927510346154 -> 2.4774896579066787\n",
      "INFO:smac.intensification.intensification.Intensifier:Updated estimated performance of incumbent on 1 runs: 0.3982\n",
      "INFO:smac.intensification.intensification.Intensifier:Updated estimated performance of incumbent on 1 runs: 0.3982\n",
      "INFO:smac.intensification.intensification.Intensifier:Updated estimated performance of incumbent on 1 runs: 0.3982\n",
      "INFO:smac.intensification.intensification.Intensifier:Updated estimated performance of incumbent on 1 runs: 0.3982\n",
      "WARNING:smac.intensification.intensification.Intensifier:Challenger was the same as the current incumbent; Skipping challenger\n",
      "INFO:smac.intensification.intensification.Intensifier:Updated estimated performance of incumbent on 1 runs: 0.3982\n",
      "WARNING:smac.intensification.intensification.Intensifier:Challenger was the same as the current incumbent; Skipping challenger\n"
     ]
    },
    {
     "name": "stderr",
     "output_type": "stream",
     "text": [
      "INFO:smac.intensification.intensification.Intensifier:Updated estimated performance of incumbent on 1 runs: 0.3982\n",
      "INFO:smac.intensification.intensification.Intensifier:Updated estimated performance of incumbent on 1 runs: 0.3982\n",
      "INFO:smac.intensification.intensification.Intensifier:Updated estimated performance of incumbent on 1 runs: 0.3982\n",
      "INFO:smac.intensification.intensification.Intensifier:Updated estimated performance of incumbent on 1 runs: 0.3982\n",
      "WARNING:smac.intensification.intensification.Intensifier:Challenger was the same as the current incumbent; Skipping challenger\n",
      "INFO:smac.intensification.intensification.Intensifier:Updated estimated performance of incumbent on 1 runs: 0.3982\n",
      "INFO:smac.intensification.intensification.Intensifier:Updated estimated performance of incumbent on 1 runs: 0.3982\n",
      "INFO:smac.intensification.intensification.Intensifier:Updated estimated performance of incumbent on 1 runs: 0.3982\n",
      "INFO:smac.intensification.intensification.Intensifier:Updated estimated performance of incumbent on 1 runs: 0.3982\n",
      "INFO:smac.intensification.intensification.Intensifier:Updated estimated performance of incumbent on 1 runs: 0.3982\n",
      "INFO:smac.intensification.intensification.Intensifier:Updated estimated performance of incumbent on 1 runs: 0.3982\n",
      "INFO:smac.intensification.intensification.Intensifier:Updated estimated performance of incumbent on 1 runs: 0.3982\n",
      "INFO:smac.intensification.intensification.Intensifier:Updated estimated performance of incumbent on 1 runs: 0.3982\n",
      "INFO:smac.intensification.intensification.Intensifier:Updated estimated performance of incumbent on 1 runs: 0.3982\n",
      "INFO:smac.intensification.intensification.Intensifier:Updated estimated performance of incumbent on 1 runs: 0.3982\n",
      "INFO:smac.intensification.intensification.Intensifier:Updated estimated performance of incumbent on 1 runs: 0.3982\n",
      "INFO:smac.intensification.intensification.Intensifier:Updated estimated performance of incumbent on 1 runs: 0.3982\n",
      "INFO:smac.intensification.intensification.Intensifier:Updated estimated performance of incumbent on 1 runs: 0.3982\n",
      "INFO:smac.intensification.intensification.Intensifier:Updated estimated performance of incumbent on 1 runs: 0.3982\n",
      "INFO:smac.intensification.intensification.Intensifier:Updated estimated performance of incumbent on 1 runs: 0.3982\n",
      "INFO:smac.intensification.intensification.Intensifier:Updated estimated performance of incumbent on 1 runs: 0.3982\n",
      "INFO:smac.intensification.intensification.Intensifier:Updated estimated performance of incumbent on 1 runs: 0.3982\n",
      "INFO:smac.intensification.intensification.Intensifier:Updated estimated performance of incumbent on 1 runs: 0.3982\n",
      "WARNING:smac.intensification.intensification.Intensifier:Challenger was the same as the current incumbent; Skipping challenger\n",
      "INFO:smac.intensification.intensification.Intensifier:Updated estimated performance of incumbent on 1 runs: 0.3982\n",
      "INFO:smac.intensification.intensification.Intensifier:Updated estimated performance of incumbent on 1 runs: 0.3982\n",
      "INFO:smac.intensification.intensification.Intensifier:Updated estimated performance of incumbent on 1 runs: 0.3982\n",
      "INFO:smac.intensification.intensification.Intensifier:Updated estimated performance of incumbent on 1 runs: 0.3982\n",
      "INFO:smac.intensification.intensification.Intensifier:Updated estimated performance of incumbent on 1 runs: 0.3982\n",
      "INFO:smac.intensification.intensification.Intensifier:Updated estimated performance of incumbent on 1 runs: 0.3982\n",
      "INFO:smac.intensification.intensification.Intensifier:Updated estimated performance of incumbent on 1 runs: 0.3982\n",
      "INFO:smac.intensification.intensification.Intensifier:Updated estimated performance of incumbent on 1 runs: 0.3982\n",
      "INFO:smac.intensification.intensification.Intensifier:Updated estimated performance of incumbent on 1 runs: 0.3982\n",
      "INFO:smac.intensification.intensification.Intensifier:Updated estimated performance of incumbent on 1 runs: 0.3982\n",
      "INFO:smac.intensification.intensification.Intensifier:Updated estimated performance of incumbent on 1 runs: 0.3982\n",
      "INFO:smac.intensification.intensification.Intensifier:Updated estimated performance of incumbent on 1 runs: 0.3982\n",
      "INFO:smac.intensification.intensification.Intensifier:Updated estimated performance of incumbent on 1 runs: 0.3982\n",
      "INFO:smac.intensification.intensification.Intensifier:Updated estimated performance of incumbent on 1 runs: 0.3982\n",
      "INFO:smac.intensification.intensification.Intensifier:Updated estimated performance of incumbent on 1 runs: 0.3982\n",
      "INFO:smac.intensification.intensification.Intensifier:Updated estimated performance of incumbent on 1 runs: 0.3982\n",
      "INFO:smac.intensification.intensification.Intensifier:Updated estimated performance of incumbent on 1 runs: 0.3982\n",
      "INFO:smac.intensification.intensification.Intensifier:Updated estimated performance of incumbent on 1 runs: 0.3982\n",
      "INFO:smac.intensification.intensification.Intensifier:Updated estimated performance of incumbent on 1 runs: 0.3982\n",
      "INFO:smac.intensification.intensification.Intensifier:Updated estimated performance of incumbent on 1 runs: 0.3982\n",
      "INFO:smac.intensification.intensification.Intensifier:Updated estimated performance of incumbent on 1 runs: 0.3982\n",
      "INFO:smac.intensification.intensification.Intensifier:Updated estimated performance of incumbent on 1 runs: 0.3982\n",
      "INFO:smac.intensification.intensification.Intensifier:Updated estimated performance of incumbent on 1 runs: 0.3982\n",
      "INFO:smac.intensification.intensification.Intensifier:Updated estimated performance of incumbent on 1 runs: 0.3982\n",
      "INFO:smac.intensification.intensification.Intensifier:Updated estimated performance of incumbent on 1 runs: 0.3982\n",
      "INFO:smac.intensification.intensification.Intensifier:Updated estimated performance of incumbent on 1 runs: 0.3982\n",
      "INFO:smac.intensification.intensification.Intensifier:Updated estimated performance of incumbent on 1 runs: 0.3982\n",
      "INFO:smac.intensification.intensification.Intensifier:Updated estimated performance of incumbent on 1 runs: 0.3982\n",
      "INFO:smac.intensification.intensification.Intensifier:Updated estimated performance of incumbent on 1 runs: 0.3982\n",
      "INFO:smac.intensification.intensification.Intensifier:Updated estimated performance of incumbent on 1 runs: 0.3982\n",
      "INFO:smac.intensification.intensification.Intensifier:Updated estimated performance of incumbent on 1 runs: 0.3982\n",
      "INFO:smac.intensification.intensification.Intensifier:Updated estimated performance of incumbent on 1 runs: 0.3982\n",
      "INFO:smac.intensification.intensification.Intensifier:Updated estimated performance of incumbent on 1 runs: 0.3982\n",
      "INFO:smac.intensification.intensification.Intensifier:Updated estimated performance of incumbent on 1 runs: 0.3982\n",
      "INFO:smac.intensification.intensification.Intensifier:Updated estimated performance of incumbent on 1 runs: 0.3982\n",
      "INFO:smac.intensification.intensification.Intensifier:Updated estimated performance of incumbent on 1 runs: 0.3982\n",
      "INFO:smac.intensification.intensification.Intensifier:Updated estimated performance of incumbent on 1 runs: 0.3982\n",
      "INFO:smac.intensification.intensification.Intensifier:Updated estimated performance of incumbent on 1 runs: 0.3982\n",
      "INFO:smac.intensification.intensification.Intensifier:Updated estimated performance of incumbent on 1 runs: 0.3982\n",
      "INFO:smac.intensification.intensification.Intensifier:Updated estimated performance of incumbent on 1 runs: 0.3982\n",
      "INFO:smac.intensification.intensification.Intensifier:Updated estimated performance of incumbent on 1 runs: 0.3982\n",
      "INFO:smac.intensification.intensification.Intensifier:Updated estimated performance of incumbent on 1 runs: 0.3982\n",
      "INFO:smac.intensification.intensification.Intensifier:Updated estimated performance of incumbent on 1 runs: 0.3982\n",
      "INFO:smac.intensification.intensification.Intensifier:Updated estimated performance of incumbent on 1 runs: 0.3982\n",
      "INFO:smac.intensification.intensification.Intensifier:Updated estimated performance of incumbent on 1 runs: 0.3982\n",
      "INFO:smac.intensification.intensification.Intensifier:Updated estimated performance of incumbent on 1 runs: 0.3982\n",
      "INFO:smac.intensification.intensification.Intensifier:Updated estimated performance of incumbent on 1 runs: 0.3982\n",
      "INFO:smac.intensification.intensification.Intensifier:Updated estimated performance of incumbent on 1 runs: 0.3982\n"
     ]
    },
    {
     "name": "stderr",
     "output_type": "stream",
     "text": [
      "INFO:smac.intensification.intensification.Intensifier:Updated estimated performance of incumbent on 1 runs: 0.3982\n",
      "INFO:smac.intensification.intensification.Intensifier:Updated estimated performance of incumbent on 1 runs: 0.3982\n",
      "INFO:smac.intensification.intensification.Intensifier:Updated estimated performance of incumbent on 1 runs: 0.3982\n",
      "INFO:smac.intensification.intensification.Intensifier:Updated estimated performance of incumbent on 1 runs: 0.3982\n"
     ]
    }
   ],
   "source": [
    "smac.optimize()"
   ]
  },
  {
   "cell_type": "code",
   "execution_count": null,
   "metadata": {
    "collapsed": true
   },
   "outputs": [],
   "source": [
    "from pimp.pimp import PIMP"
   ]
  },
  {
   "cell_type": "code",
   "execution_count": null,
   "metadata": {
    "scrolled": true
   },
   "outputs": [],
   "source": [
    "pimp = PIMP(scenario, smac, mode='all')\n",
    "result = pimp.compute_importances()"
   ]
  },
  {
   "cell_type": "code",
   "execution_count": null,
   "metadata": {
    "scrolled": true
   },
   "outputs": [],
   "source": [
    "%matplotlib inline\n",
    "pimp.plot_results(result=result, show=True, save_table=False)"
   ]
  },
  {
   "cell_type": "code",
   "execution_count": null,
   "metadata": {},
   "outputs": [],
   "source": [
    "import copy\n",
    "\n",
    "X = copy.deepcopy(pimp.imp.model.X)\n",
    "y = copy.deepcopy(pimp.imp.model.y)\n",
    "print(X.shape)\n",
    "print(scenario.feature_array)"
   ]
  },
  {
   "cell_type": "code",
   "execution_count": null,
   "metadata": {
    "scrolled": false
   },
   "outputs": [],
   "source": [
    "%matplotlib inline\n",
    "scenario = Scenario('branin_scenario.txt')\n",
    "pimp = PIMP(scenario, X=X, y=y, mode='all')\n",
    "print(pimp.X.shape)\n",
    "print(pimp.y.shape)\n",
    "result = pimp.compute_importances()\n",
    "pimp.plot_results(result=result, show=True, save_table=False)"
   ]
  }
 ],
 "metadata": {
  "kernelspec": {
   "display_name": "Python 3",
   "language": "python",
   "name": "python3"
  },
  "language_info": {
   "codemirror_mode": {
    "name": "ipython",
    "version": 3
   },
   "file_extension": ".py",
   "mimetype": "text/x-python",
   "name": "python",
   "nbconvert_exporter": "python",
   "pygments_lexer": "ipython3",
   "version": "3.5.2"
  }
 },
 "nbformat": 4,
 "nbformat_minor": 2
}
